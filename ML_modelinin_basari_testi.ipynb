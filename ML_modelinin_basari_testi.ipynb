{
 "cells": [
  {
   "cell_type": "markdown",
   "id": "f3cdd00e-de83-4e58-9cd1-fc84cb9d10a9",
   "metadata": {},
   "source": [
    "### ML Modelinin Başarı Testi(AB Testi):"
   ]
  },
  {
   "cell_type": "markdown",
   "id": "94772f4b-63f2-4757-b420-419eeb9948c7",
   "metadata": {},
   "source": [
    "Yapacağım uygulama Vahit Keskin'in hocanın notlarından yararlanılmıştır. Verilerde değişiklik olabilir.\n",
    "\n",
    "Uygulamada ilerleyebileceğimiz yol aşağıdaki gibidir;\n",
    "\n",
    "- Hipotezler kurulacak,\n",
    "\n",
    "- Bağımsız iki örneklem T testi varsayım kontrolü,\n",
    "\n",
    "- Bağımsız iki örneklem T testi uygulaması,\n",
    "\n",
    "- Nonparametrik bağımsız iki örneklem testi,\n",
    "\n",
    "**Problem:** Bir ML projesine yatırım yapılmış. Ürettiği tahminler neticesinde oluşan gelir il eski sistemin ürettiği gelirler karşılaştırılıp anlamlı farklılık olup olmadığı test edilmek isteniliyor.\n",
    "\n",
    "**Detaylar:** Model geliştirilmiş ve web sitesine entegre edilmiş.\n",
    "\n",
    "-Site kullanıcıları belirli bir kurala göre ikiye bölünüyor.\n",
    "\n",
    "-A grubu eski, B grubu yeni.\n",
    "\n",
    "**Soru:** Gelir anlamında bir iş yapılıp yapılmadığı test edilmek isteniliyor?\n",
    "\n"
   ]
  },
  {
   "cell_type": "markdown",
   "id": "4ffde1d6-7095-492c-bf38-c4725268ef39",
   "metadata": {},
   "source": [
    "**Hipotezler:** \n",
    "\n",
    "$H_0:\\mu_1=\\mu_2$\n",
    "\n",
    "$H_1:\\mu_1!=\\mu_2$"
   ]
  },
  {
   "cell_type": "code",
   "execution_count": 1,
   "id": "9f08010e-8409-463b-bdcf-6f21bde6d303",
   "metadata": {},
   "outputs": [],
   "source": [
    "import numpy as np\n",
    "import pandas as pd"
   ]
  },
  {
   "cell_type": "code",
   "execution_count": 3,
   "id": "349c3c55-1735-4b0b-a238-dcf5a38f0658",
   "metadata": {},
   "outputs": [
    {
     "data": {
      "text/html": [
       "<div>\n",
       "<style scoped>\n",
       "    .dataframe tbody tr th:only-of-type {\n",
       "        vertical-align: middle;\n",
       "    }\n",
       "\n",
       "    .dataframe tbody tr th {\n",
       "        vertical-align: top;\n",
       "    }\n",
       "\n",
       "    .dataframe thead th {\n",
       "        text-align: right;\n",
       "    }\n",
       "</style>\n",
       "<table border=\"1\" class=\"dataframe\">\n",
       "  <thead>\n",
       "    <tr style=\"text-align: right;\">\n",
       "      <th></th>\n",
       "      <th>A</th>\n",
       "      <th>B</th>\n",
       "    </tr>\n",
       "  </thead>\n",
       "  <tbody>\n",
       "    <tr>\n",
       "      <th>0</th>\n",
       "      <td>30</td>\n",
       "      <td>37</td>\n",
       "    </tr>\n",
       "    <tr>\n",
       "      <th>1</th>\n",
       "      <td>27</td>\n",
       "      <td>39</td>\n",
       "    </tr>\n",
       "    <tr>\n",
       "      <th>2</th>\n",
       "      <td>21</td>\n",
       "      <td>31</td>\n",
       "    </tr>\n",
       "    <tr>\n",
       "      <th>3</th>\n",
       "      <td>27</td>\n",
       "      <td>31</td>\n",
       "    </tr>\n",
       "    <tr>\n",
       "      <th>4</th>\n",
       "      <td>29</td>\n",
       "      <td>34</td>\n",
       "    </tr>\n",
       "  </tbody>\n",
       "</table>\n",
       "</div>"
      ],
      "text/plain": [
       "    A   B\n",
       "0  30  37\n",
       "1  27  39\n",
       "2  21  31\n",
       "3  27  31\n",
       "4  29  34"
      ]
     },
     "execution_count": 3,
     "metadata": {},
     "output_type": "execute_result"
    }
   ],
   "source": [
    "#Veri Tipi I\n",
    "A = pd.DataFrame([30,27,21,27,29,30,20,20,27,32,35,22,24,23,25,27,23,27,23,25,21,18,24,26,33,26,27,28,19,25])\n",
    "\n",
    "B = pd.DataFrame([37,39,31,31,34,38,30,36,29,28,38,28,37,37,30,32,31,31,27,32,33,33,33,31,32,33,26,32,33,29])\n",
    "\n",
    "A_B = pd.concat([A,B] ,axis=1)\n",
    "A_B.columns = [\"A\",\"B\"]\n",
    "A_B.head()"
   ]
  },
  {
   "cell_type": "code",
   "execution_count": 4,
   "id": "2f06aa21-894f-4df8-9d6c-000973b58ba0",
   "metadata": {},
   "outputs": [
    {
     "name": "stdout",
     "output_type": "stream",
     "text": [
      "   gelir Grup\n",
      "0     30    A\n",
      "1     27    A\n",
      "2     21    A\n",
      "3     27    A\n",
      "4     29    A\n",
      "    gelir Grup\n",
      "25     33    B\n",
      "26     26    B\n",
      "27     32    B\n",
      "28     33    B\n",
      "29     29    B\n"
     ]
    }
   ],
   "source": [
    "#Veri Tipi II\n",
    "A = pd.DataFrame([30,27,21,27,29,30,20,20,27,32,35,22,24,23,25,27,23,27,23,25,21,18,24,26,33,26,27,28,19,25])\n",
    "\n",
    "B = pd.DataFrame([37,39,31,31,34,38,30,36,29,28,38,28,37,37,30,32,31,31,27,32,33,33,33,31,32,33,26,32,33,29])\n",
    "\n",
    "#A ve A'nın grubu\n",
    "\n",
    "Grup_A = np.arange(len(A))\n",
    "Grup_A = pd.DataFrame(Grup_A)\n",
    "Grup_A[:] = \"A\"\n",
    "A = pd.concat([A, Grup_A], axis = 1)\n",
    "\n",
    "#B ve B'nin grubu\n",
    "\n",
    "Grup_B = np.arange(len(B))\n",
    "Grup_B = pd.DataFrame(Grup_B)\n",
    "Grup_B[:] = \"B\"\n",
    "B = pd.concat([B, Grup_B], axis = 1)\n",
    "\n",
    "#Tüm Veri\n",
    "\n",
    "AB = pd.concat([A,B])\n",
    "AB.columns = [\"gelir\",\"Grup\"]\n",
    "print(AB.head())\n",
    "print(AB.tail())"
   ]
  },
  {
   "cell_type": "code",
   "execution_count": 5,
   "id": "f69e4e77-dc80-4a18-8320-19f2833788bf",
   "metadata": {},
   "outputs": [
    {
     "data": {
      "image/png": "[encoded data removed]",
      "text/plain": [
       "<Figure size 640x480 with 1 Axes>"
      ]
     },
     "metadata": {},
     "output_type": "display_data"
    }
   ],
   "source": [
    "import seaborn as sns\n",
    "sns.boxplot(x = \"Grup\", y = \"gelir\", data = AB);"
   ]
  },
  {
   "cell_type": "code",
   "execution_count": 6,
   "id": "433bece2-afbd-47e3-9bdb-4856da3e689a",
   "metadata": {},
   "outputs": [
    {
     "data": {
      "text/html": [
       "<div>\n",
       "<style scoped>\n",
       "    .dataframe tbody tr th:only-of-type {\n",
       "        vertical-align: middle;\n",
       "    }\n",
       "\n",
       "    .dataframe tbody tr th {\n",
       "        vertical-align: top;\n",
       "    }\n",
       "\n",
       "    .dataframe thead th {\n",
       "        text-align: right;\n",
       "    }\n",
       "</style>\n",
       "<table border=\"1\" class=\"dataframe\">\n",
       "  <thead>\n",
       "    <tr style=\"text-align: right;\">\n",
       "      <th></th>\n",
       "      <th>A</th>\n",
       "      <th>B</th>\n",
       "    </tr>\n",
       "  </thead>\n",
       "  <tbody>\n",
       "    <tr>\n",
       "      <th>0</th>\n",
       "      <td>30</td>\n",
       "      <td>37</td>\n",
       "    </tr>\n",
       "    <tr>\n",
       "      <th>1</th>\n",
       "      <td>27</td>\n",
       "      <td>39</td>\n",
       "    </tr>\n",
       "    <tr>\n",
       "      <th>2</th>\n",
       "      <td>21</td>\n",
       "      <td>31</td>\n",
       "    </tr>\n",
       "    <tr>\n",
       "      <th>3</th>\n",
       "      <td>27</td>\n",
       "      <td>31</td>\n",
       "    </tr>\n",
       "    <tr>\n",
       "      <th>4</th>\n",
       "      <td>29</td>\n",
       "      <td>34</td>\n",
       "    </tr>\n",
       "  </tbody>\n",
       "</table>\n",
       "</div>"
      ],
      "text/plain": [
       "    A   B\n",
       "0  30  37\n",
       "1  27  39\n",
       "2  21  31\n",
       "3  27  31\n",
       "4  29  34"
      ]
     },
     "execution_count": 6,
     "metadata": {},
     "output_type": "execute_result"
    }
   ],
   "source": [
    "A_B.head()"
   ]
  },
  {
   "cell_type": "code",
   "execution_count": 7,
   "id": "0e3ebf81-1f1f-43a5-9f80-a22172dfa16f",
   "metadata": {},
   "outputs": [
    {
     "data": {
      "text/html": [
       "<div>\n",
       "<style scoped>\n",
       "    .dataframe tbody tr th:only-of-type {\n",
       "        vertical-align: middle;\n",
       "    }\n",
       "\n",
       "    .dataframe tbody tr th {\n",
       "        vertical-align: top;\n",
       "    }\n",
       "\n",
       "    .dataframe thead th {\n",
       "        text-align: right;\n",
       "    }\n",
       "</style>\n",
       "<table border=\"1\" class=\"dataframe\">\n",
       "  <thead>\n",
       "    <tr style=\"text-align: right;\">\n",
       "      <th></th>\n",
       "      <th>gelir</th>\n",
       "      <th>Grup</th>\n",
       "    </tr>\n",
       "  </thead>\n",
       "  <tbody>\n",
       "    <tr>\n",
       "      <th>0</th>\n",
       "      <td>30</td>\n",
       "      <td>A</td>\n",
       "    </tr>\n",
       "    <tr>\n",
       "      <th>1</th>\n",
       "      <td>27</td>\n",
       "      <td>A</td>\n",
       "    </tr>\n",
       "    <tr>\n",
       "      <th>2</th>\n",
       "      <td>21</td>\n",
       "      <td>A</td>\n",
       "    </tr>\n",
       "    <tr>\n",
       "      <th>3</th>\n",
       "      <td>27</td>\n",
       "      <td>A</td>\n",
       "    </tr>\n",
       "    <tr>\n",
       "      <th>4</th>\n",
       "      <td>29</td>\n",
       "      <td>A</td>\n",
       "    </tr>\n",
       "  </tbody>\n",
       "</table>\n",
       "</div>"
      ],
      "text/plain": [
       "   gelir Grup\n",
       "0     30    A\n",
       "1     27    A\n",
       "2     21    A\n",
       "3     27    A\n",
       "4     29    A"
      ]
     },
     "execution_count": 7,
     "metadata": {},
     "output_type": "execute_result"
    }
   ],
   "source": [
    "AB.head()"
   ]
  },
  {
   "cell_type": "code",
   "execution_count": 8,
   "id": "10571be2-8b9b-4491-9aa2-6f6924820714",
   "metadata": {},
   "outputs": [],
   "source": [
    "#normallik varsayımı\n",
    "from scipy.stats import shapiro"
   ]
  },
  {
   "cell_type": "code",
   "execution_count": 9,
   "id": "d61c78e8-5cc6-499f-b7fe-5b56df5d8443",
   "metadata": {},
   "outputs": [
    {
     "data": {
      "text/plain": [
       "ShapiroResult(statistic=0.9789243936538696, pvalue=0.7962851524353027)"
      ]
     },
     "execution_count": 9,
     "metadata": {},
     "output_type": "execute_result"
    }
   ],
   "source": [
    "shapiro(A_B.A)"
   ]
  },
  {
   "cell_type": "code",
   "execution_count": 10,
   "id": "9d09527c-e196-4943-bbb1-9ba30026a7ba",
   "metadata": {},
   "outputs": [
    {
     "data": {
      "text/plain": [
       "ShapiroResult(statistic=0.9561262130737305, pvalue=0.24584470689296722)"
      ]
     },
     "execution_count": 10,
     "metadata": {},
     "output_type": "execute_result"
    }
   ],
   "source": [
    "shapiro(A_B.B)"
   ]
  },
  {
   "cell_type": "code",
   "execution_count": 17,
   "id": "320ecfa3-720d-46bd-bfd9-cf8a061298e7",
   "metadata": {},
   "outputs": [
    {
     "data": {
      "text/plain": [
       "LeveneResult(statistic=1.1101802757158004, pvalue=0.2964124900636569)"
      ]
     },
     "execution_count": 17,
     "metadata": {},
     "output_type": "execute_result"
    }
   ],
   "source": [
    "#Varyans homojen varsayımı\n",
    "from scipy.stats import levene\n",
    "\n",
    "scipy.stats.levene(A_B.A, A_B.B)"
   ]
  },
  {
   "cell_type": "code",
   "execution_count": 20,
   "id": "ad24f51d-2734-4a8e-9743-41a4cf4ae0c1",
   "metadata": {},
   "outputs": [
    {
     "data": {
      "text/plain": [
       "Ttest_indResult(statistic=-7.028690967745927, pvalue=2.6233215605475075e-09)"
      ]
     },
     "execution_count": 20,
     "metadata": {},
     "output_type": "execute_result"
    }
   ],
   "source": [
    "#Hipotez Testi\n",
    "scipy.stats.ttest_ind(A_B[\"A\"], A_B[\"B\"], equal_var = True)"
   ]
  },
  {
   "cell_type": "code",
   "execution_count": 22,
   "id": "c147674d-a88b-4073-b298-4b98abe4b928",
   "metadata": {},
   "outputs": [
    {
     "name": "stdout",
     "output_type": "stream",
     "text": [
      "Test İstatistiği = -7.0287, p-değeri = 0.0000\n"
     ]
    }
   ],
   "source": [
    "#hipotez testinin daha açıklayıcı şekilde yazmak istersek;\n",
    "test_istatistigi, pvalue = scipy.stats.ttest_ind(A_B[\"A\"], A_B[\"B\"], equal_var = True)\n",
    "\n",
    "print('Test İstatistiği = %.4f, p-değeri = %.4f' % (test_istatistigi, pvalue))"
   ]
  },
  {
   "cell_type": "code",
   "execution_count": 25,
   "id": "a047f05b-6e82-4891-b638-18cf09e1ee18",
   "metadata": {},
   "outputs": [
    {
     "data": {
      "text/plain": [
       "MannwhitneyuResult(statistic=89.5, pvalue=9.557950378612535e-08)"
      ]
     },
     "execution_count": 25,
     "metadata": {},
     "output_type": "execute_result"
    }
   ],
   "source": [
    "#nonparametrik testi;\n",
    "scipy.stats.mannwhitneyu(A_B[\"A\"], A_B[\"B\"])"
   ]
  },
  {
   "cell_type": "code",
   "execution_count": 27,
   "id": "c41d40d9-0356-4fe5-a963-dd9e9215e034",
   "metadata": {},
   "outputs": [
    {
     "name": "stdout",
     "output_type": "stream",
     "text": [
      "Test İstatistiği = 89.5000, p-değeri = 0.0000\n"
     ]
    }
   ],
   "source": [
    "#nonparametrik testinin daha açıklayıcı şekilde yazmak istersek;\n",
    "test_istatistigi, pvalue = scipy.stats.mannwhitneyu(A_B[\"A\"], A_B[\"B\"])\n",
    "\n",
    "print('Test İstatistiği = %.4f, p-değeri = %.4f' % (test_istatistigi, pvalue))"
   ]
  },
  {
   "cell_type": "markdown",
   "id": "e5007728-ca92-47b3-93dc-fc2f29e2a231",
   "metadata": {},
   "source": [
    "**Not:** Nonparamterik testi normallik varsayımı ve varyans homojen varsayımı sağlanmaz ise kullanılır. Bizim uygulamada varsayımlar sağlanmıyor bu yüzden bzi kullandık.\n",
    "\n",
    "**Yorum:** Hipotez testinin sonuçlarından ve nonparametrik testinin sonuçlarından anlaşılacağı üzere biz istatistiksel olarak fark var diyebiliriz. Bunun sebebi p-value değerinin alfa değerinden yani 0.05 değerinden küçüktür. Kısaca biz H0 hipotezini redderiz. "
   ]
  },
  {
   "cell_type": "markdown",
   "id": "4b785cc7-3562-4bd6-a693-f86603565139",
   "metadata": {},
   "source": [
    "@nursenabozdag"
   ]
  }
 ],
 "metadata": {
  "kernelspec": {
   "display_name": "Python 3 (ipykernel)",
   "language": "python",
   "name": "python3"
  },
  "language_info": {
   "codemirror_mode": {
    "name": "ipython",
    "version": 3
   },
   "file_extension": ".py",
   "mimetype": "text/x-python",
   "name": "python",
   "nbconvert_exporter": "python",
   "pygments_lexer": "ipython3",
   "version": "3.10.4"
  }
 },
 "nbformat": 4,
 "nbformat_minor": 5
}
