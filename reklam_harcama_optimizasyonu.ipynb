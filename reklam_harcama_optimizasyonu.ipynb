{
 "cells": [
  {
   "cell_type": "markdown",
   "id": "e05208da-c83e-4f49-8a37-6a16180f386e",
   "metadata": {},
   "source": [
    "### Reklam Harcama Optimizasyonu"
   ]
  },
  {
   "cell_type": "markdown",
   "id": "e6a8507e-540b-4b8f-ab3e-4a224df1038c",
   "metadata": {},
   "source": [
    "Elimizde bir problem ve problemin detayları yer almaktadır. Bu uygulama Vahit Keskin Hoca'nın notlarından yararlanılmıştır. Benim burada yaptığım ise uygulamayı yorumlamak ve başka insanlarından faydalanmasını istediğimden paylaşmak istiyorum."
   ]
  },
  {
   "cell_type": "markdown",
   "id": "1fa52d66-378c-445d-87df-5d1f0ca7f55b",
   "metadata": {},
   "source": [
    "Reklam harcama optimizasyonu uygulaması iki yolla çözülecektir. İlk olarak formülde yerine konularak, ikincisi ise python yazılım dilinden yararlanarak çözülecektir. Böylece bir yazılım dilinin işleri ne kadar kolaylaştırdığını ve bilimsel kaynak olmasından dolayı bizim için önemli bir yere sahiptir."
   ]
  },
  {
   "cell_type": "markdown",
   "id": "a7993c3e-1ed2-402f-848d-e8be478dddb2",
   "metadata": {},
   "source": [
    "Reklam harcama optimizasyonu uygulamasında binom dağılımından yararlanıyoruz. Binom dağılımından kısaca bahsedersek;\n",
    "\n",
    "**Binom Dağılımı:** Bağımsız n deneme sonucu k başarılı olma olasılığı ile ilgilenildiğinde kullanılan dağılımdır. Binom dağılımında bazı formüller kullanılmaktadır.Bunlar;\n",
    "\n",
    "$f(x;n,p) =\\dbinom{n}{x} * p^x *(1-p)^{n-x}$\n",
    "\n",
    "$x = 0,1,2,3,.......,n$\n",
    "\n",
    "$E(X) =n*p$\n",
    "\n",
    "$Var(x) = n*p(1-p)$"
   ]
  },
  {
   "cell_type": "markdown",
   "id": "8e30cf78-2c38-4325-b2fa-e4a16b1ed800",
   "metadata": {},
   "source": [
    "Yukarıda yazdığımız formüllerde $E(X) =n*p$ formülü beklenilen değere, $Var(x) = n*p(1-p)$ ise varyansa demektir. Bunları göz önüne alarak işlem yapmalıyız. \n",
    "\n",
    "**Binom dağılımı, bernoulli dağılımının n defa yapılma olasılığıdır.**"
   ]
  },
  {
   "cell_type": "markdown",
   "id": "a2138cc9-0a60-4a80-976d-5021b8a69fdd",
   "metadata": {},
   "source": [
    "Uygulamamıza gelirsek;\n",
    "\n",
    "**Problem:** Çeşitli mecralarda reklam veriliyor, reklamların tıklanma ve geri dönüşüm oranları optimize edilmeye çalışılıyor. Buna yönelik olarak belirli bir mecrada çeşitli senaryolara göre reklam tıklanma olasılıkları hesaplanmak isteniliyor.\n",
    "\n",
    "**Detaylar:** Bir mecrada reklam verilecek.\n",
    "-Dağılım ve reklama tıklama olasılığı biliniyor(0,01)\n",
    "\n",
    "**Soru:** Reklamı 100 kişi gördüğünde 1,5,10 tıklanması olasılığı nedir?"
   ]
  },
  {
   "cell_type": "markdown",
   "id": "82dff873-51c4-470b-9c4e-d7209a4b442b",
   "metadata": {},
   "source": [
    "Öncelikle yukarıda yazdığımız formüller ile problemimizi çözelim.Elimizde ki veriler n= 100, p=0,01, x=1,5 ve 10'dur\n",
    "\n",
    "x = 1 ise;\n",
    "\n",
    "$f(1;100,0,01) =\\dbinom{100}{1} * 0,01^1 *(1-0,01)^{100-1}$\n",
    "\n",
    "Sonuç = 0,37\n",
    "\n",
    "x = 5 ise;\n",
    "\n",
    "$f(5;100,0,01) =\\dbinom{100}{5} * 0,01^5 *(5-0,01)^{100-5}$\n",
    "\n",
    "Sonuç = 0,00289779\n",
    "\n",
    "x = 10 ise;\n",
    "\n",
    "$f(10;100,0,01) =\\dbinom{100}{10} * 0,01^10 *(10-0,01)^{100-10}$\n",
    "\n",
    "Sonuç= 0,00000007\n",
    "\n",
    "Sonuçlar yukarıdaki gibi çıkacaktır. Problemimizi python ile ele alırsak bu kadar formül ile uğraşmaya gerek kalmayacaktır."
   ]
  },
  {
   "cell_type": "code",
   "execution_count": 1,
   "id": "f66e1b2d-41eb-4bee-bf01-ddfe96efac29",
   "metadata": {},
   "outputs": [],
   "source": [
    "#kütüphane import ediliyor.\n",
    "from scipy.stats import binom\n",
    "#scipy.stats kütüphanesinde binom methodu kullanmak için yukarıda ki şekilde yazdık."
   ]
  },
  {
   "cell_type": "code",
   "execution_count": 2,
   "id": "83f6569e-53e4-468e-85a8-7f4538916ab8",
   "metadata": {},
   "outputs": [],
   "source": [
    "#Parametlerimizi tanımlıyoruz.\n",
    "p = 0.01\n",
    "n = 100"
   ]
  },
  {
   "cell_type": "code",
   "execution_count": 3,
   "id": "51710eae-fc43-4073-922f-69b105296b24",
   "metadata": {},
   "outputs": [],
   "source": [
    "rv = binom(n,p)\n",
    "#yapacağımız binom işlemlerini rv'ye atıyoruz."
   ]
  },
  {
   "cell_type": "code",
   "execution_count": 5,
   "id": "a307d00f-5cac-4f4b-92e3-ca239826efa1",
   "metadata": {},
   "outputs": [
    {
     "name": "stdout",
     "output_type": "stream",
     "text": [
      "0.36972963764972666\n"
     ]
    }
   ],
   "source": [
    "print(rv.pmf(1))\n",
    "#x değerimiz 1 olduğunda yani tıklama sayısı 1 olduğundaki olasılığımız."
   ]
  },
  {
   "cell_type": "code",
   "execution_count": 6,
   "id": "715e3f1e-5df6-4e1d-bb2e-1033dbc82859",
   "metadata": {},
   "outputs": [
    {
     "name": "stdout",
     "output_type": "stream",
     "text": [
      "0.0028977871237614783\n"
     ]
    }
   ],
   "source": [
    "print(rv.pmf(5))\n",
    "# tıklama sayısı 5 olduğundaki olasılığımız."
   ]
  },
  {
   "cell_type": "code",
   "execution_count": 7,
   "id": "4f81abfd-9d4c-4b50-9825-114ce5db0a38",
   "metadata": {},
   "outputs": [
    {
     "name": "stdout",
     "output_type": "stream",
     "text": [
      "7.006035693977194e-08\n"
     ]
    }
   ],
   "source": [
    "print(rv.pmf(10))\n",
    "# tıklama sayısı = 10"
   ]
  },
  {
   "cell_type": "markdown",
   "id": "8d15dc29-5dc7-4cf2-a301-3486dd856b7c",
   "metadata": {},
   "source": [
    "Görüldüğü gibi yukarıda python ile yazdığımızda işlerimiz daha da kolaylaşmıştır.\n",
    "Sonuçlar %95 güven aralığında ki sonuçlardır. Böylece bu uygulama iki yöntem ile çözülmüştür. İki yöntemde de sonuçlar aynı çıkmıştır.  "
   ]
  },
  {
   "cell_type": "markdown",
   "id": "7c22dc1f-4037-4409-b635-5bbe2af771cc",
   "metadata": {},
   "source": [
    "**pmf** methodu sciPy kütüphanesinin bir parçasıdır. Binom dağılımı yardımıyla olasılıksal deneyleri modellemek için kullanılan bir methodtur."
   ]
  }
 ],
 "metadata": {
  "kernelspec": {
   "display_name": "Python 3 (ipykernel)",
   "language": "python",
   "name": "python3"
  },
  "language_info": {
   "codemirror_mode": {
    "name": "ipython",
    "version": 3
   },
   "file_extension": ".py",
   "mimetype": "text/x-python",
   "name": "python",
   "nbconvert_exporter": "python",
   "pygments_lexer": "ipython3",
   "version": "3.10.4"
  }
 },
 "nbformat": 4,
 "nbformat_minor": 5
}
