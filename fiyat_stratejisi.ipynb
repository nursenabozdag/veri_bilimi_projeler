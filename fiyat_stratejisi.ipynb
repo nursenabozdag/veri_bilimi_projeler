{
 "cells": [
  {
   "cell_type": "markdown",
   "id": "05ee8342-a4f9-4513-898b-c4ffcb83c6e5",
   "metadata": {},
   "source": [
    "## Fiyat Stratejisi Karar Destek Programı"
   ]
  },
  {
   "cell_type": "markdown",
   "id": "b06a2232-748b-4ad0-b420-ae40bad26e22",
   "metadata": {},
   "source": [
    "Elimizde bir problem ve problemin detayları var. Detaylara göre güvenirliğe dayalı bir proje yapmak istiyoruz.Bu projede Vahit Keskin hocanın notlarından yararlanılmıştır."
   ]
  },
  {
   "cell_type": "markdown",
   "id": "f2823b16-8a1c-4349-b4d9-36395b3bffb4",
   "metadata": {},
   "source": [
    "**Problem:** CEO, fiyat belirleme konusunda bilimsel bir dayanak ve esneklik istiyor.\n",
    "\n",
    "**Detaylar:**  Satıcı, alıcı ve bir ürün var.\n",
    "\n",
    "-Alıcılara ürüne ne kadar ücret öderdiniz diye soruluyor.\n",
    "\n",
    "-Optimum fiyat bilimsel ve esnek olarak bulunmak isteniyor.\n",
    "\n",
    "-Alıcılar başka alıcıların verdiği ücreti görmüyor.\n",
    "\n",
    "-Güvenirliğe dayalı bir sonuç istiyoruz."
   ]
  },
  {
   "cell_type": "markdown",
   "id": "02de80b8-81a6-45b6-9b58-d98678cf772d",
   "metadata": {},
   "source": [
    "Uygulamada **statmodels'nin** kütüphanesin özelliklerinden faydalandım. **Statsmodels** (Statistical Models – İstatistiksel Modeller) kütüphanesi istatistiksel modelleri tahmin etmek ve istatistiksel testler yapmamızı sağlayan bir kütüphanedir. Farklı veri türleri işlemesi, geniş tanımlayıcı istatistik yapısı, çizim fonksiyonu ve sonuç istatistikleri listesi gibi çözümlerinden dolayı çokça tercih edilmektedir.\n"
   ]
  },
  {
   "cell_type": "code",
   "execution_count": 2,
   "id": "026e67ae-7a45-4acf-a566-417c8d0d50a9",
   "metadata": {},
   "outputs": [],
   "source": [
    "#öncelikle kullanacağımız kütüphaneleri import etmeliyiz.\n",
    "import numpy as np\n",
    "fiyatlar = np.random.randint(10,110,1000)"
   ]
  },
  {
   "cell_type": "code",
   "execution_count": 3,
   "id": "467006fb-7b83-48ce-9ea3-9bc93b8f8084",
   "metadata": {},
   "outputs": [
    {
     "data": {
      "text/plain": [
       "57.995"
      ]
     },
     "execution_count": 3,
     "metadata": {},
     "output_type": "execute_result"
    }
   ],
   "source": [
    "#randint fonksiyonu ile oluşturduğumuz fiyatlatın ortalamasını alıyoruz.\n",
    "fiyatlar.mean()"
   ]
  },
  {
   "cell_type": "code",
   "execution_count": 5,
   "id": "f3d0015c-02f5-44a3-8b7c-c85facaf4870",
   "metadata": {},
   "outputs": [],
   "source": [
    "#statmodels kütüphanesini import ediyourz.\n",
    "import statsmodels.stats.api as sms"
   ]
  },
  {
   "cell_type": "code",
   "execution_count": 14,
   "id": "c5161c42-eebd-4624-bd5c-4e34b23d11b8",
   "metadata": {},
   "outputs": [
    {
     "data": {
      "text/plain": [
       "(56.24701033033932, 59.74298966966067)"
      ]
     },
     "execution_count": 14,
     "metadata": {},
     "output_type": "execute_result"
    }
   ],
   "source": [
    "sms.DescrStatsW(fiyatlar).tconfint_mean()"
   ]
  },
  {
   "cell_type": "markdown",
   "id": "83cc52ea-c063-4269-82b7-b8d9ee16e85b",
   "metadata": {},
   "source": [
    "Statsmodels kütüphanesini kullanarak fiyat belirlemede bilimsel bir dayanak elde etmiş olduk."
   ]
  },
  {
   "cell_type": "markdown",
   "id": "c77184c6-9e25-46e1-b624-318abdb10087",
   "metadata": {},
   "source": [
    "Bizim fiyatlatların ortlaması, %95 güvenirliğe dayalı bir şekilde 56 ve 59 değerlerinin arasında çıkmıştır. Bilimsel dayanak oluşturduğumuz veriye artık güvenebiliriz."
   ]
  }
 ],
 "metadata": {
  "kernelspec": {
   "display_name": "Python 3 (ipykernel)",
   "language": "python",
   "name": "python3"
  },
  "language_info": {
   "codemirror_mode": {
    "name": "ipython",
    "version": 3
   },
   "file_extension": ".py",
   "mimetype": "text/x-python",
   "name": "python",
   "nbconvert_exporter": "python",
   "pygments_lexer": "ipython3",
   "version": "3.10.4"
  }
 },
 "nbformat": 4,
 "nbformat_minor": 5
}
