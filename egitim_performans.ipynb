{
 "cells": [
  {
   "cell_type": "markdown",
   "id": "f76008da-7ee4-4b87-99e9-45a9855090f9",
   "metadata": {},
   "source": [
    "### Şirket içi Eğitimin Performansa Etkisi Ölçümü"
   ]
  },
  {
   "cell_type": "markdown",
   "id": "fb2fe1f8-56c5-4178-a89f-d7a5cdc62a4c",
   "metadata": {},
   "source": [
    "Yapacağım uygulama Vahit Keskin'in hocanın notlarından yararlanılmıştır. Verilerde değişiklik olabilir.\n",
    "\n",
    "Uygulamada ilerleyebileceğimiz yol aşağıdaki gibidir;\n",
    "\n",
    "- Hipotezler kurulacak,\n",
    "\n",
    "- Bağımsız iki örneklem T testi varsayım kontrolü,\n",
    "\n",
    "- Bağımsız iki örneklem T testi uygulaması,\n",
    "\n",
    "- Nonparametrik bağımsız iki örneklem testi,\n",
    "\n",
    "**Problem:** Belirli uğraşlar soucunda alınan bir eğitimin katma değer sağlayıp sağlamadığını ölçmek isteniliyor.\n",
    "\n",
    "**Detaylar:** Bir departman bir konuda eğitim talep ediyor.\n",
    "\n",
    "-Gerekli/gereksiz değerlendirmeleri sonucunda eğitim alınıyor.\n",
    "\n",
    "-Eğitimden önce ve sonra olacak şekilde gerekli ölçümler yapılıyor.\n",
    "\n",
    "**Soru:** Eğitim sonrasında eğitimin sağladığı katma değer test edilmek isteniliyor?\n",
    "\n",
    "**Hipotez:**\n",
    "\n",
    "$H_0:\\mu_o = \\mu_s$\n",
    "\n",
    "$H_0:\\mu_o != \\mu_s$\n",
    "\n",
    "\n"
   ]
  },
  {
   "cell_type": "code",
   "execution_count": 1,
   "id": "7307b21f-405a-40a2-8758-0135d22b737c",
   "metadata": {},
   "outputs": [],
   "source": [
    "#kütüphaneler import ediliyor.\n",
    "import numpy as np\n",
    "import pandas as pd"
   ]
  },
  {
   "cell_type": "code",
   "execution_count": 2,
   "id": "f6363f80-d7ff-4882-a3b2-d315b2d1c649",
   "metadata": {},
   "outputs": [],
   "source": [
    "oncesi = pd.DataFrame([123,119,119,116,123,123,121,120,117,118,121,121,123,119,121,118,124,121,125,115,115,119,118,121,117,\n",
    "                       120,120,121,117,118,117,123,128,124,121,115,118,125,115])\n",
    "\n",
    "sonrasi = pd.DataFrame([118,127,122,132,129,123,129,132,128,130,128,138,140,130,134,134,124,140,134,129,129,138,134,124,\n",
    "                        122,126,133,127,130,130,132,117,130,128,129,133,120,127,123])"
   ]
  },
  {
   "cell_type": "code",
   "execution_count": 3,
   "id": "1bd8004b-421f-4009-be32-86fed487bba1",
   "metadata": {},
   "outputs": [
    {
     "data": {
      "text/html": [
       "<div>\n",
       "<style scoped>\n",
       "    .dataframe tbody tr th:only-of-type {\n",
       "        vertical-align: middle;\n",
       "    }\n",
       "\n",
       "    .dataframe tbody tr th {\n",
       "        vertical-align: top;\n",
       "    }\n",
       "\n",
       "    .dataframe thead th {\n",
       "        text-align: right;\n",
       "    }\n",
       "</style>\n",
       "<table border=\"1\" class=\"dataframe\">\n",
       "  <thead>\n",
       "    <tr style=\"text-align: right;\">\n",
       "      <th></th>\n",
       "      <th>0</th>\n",
       "    </tr>\n",
       "  </thead>\n",
       "  <tbody>\n",
       "    <tr>\n",
       "      <th>0</th>\n",
       "      <td>123</td>\n",
       "    </tr>\n",
       "    <tr>\n",
       "      <th>1</th>\n",
       "      <td>119</td>\n",
       "    </tr>\n",
       "    <tr>\n",
       "      <th>2</th>\n",
       "      <td>119</td>\n",
       "    </tr>\n",
       "    <tr>\n",
       "      <th>3</th>\n",
       "      <td>116</td>\n",
       "    </tr>\n",
       "    <tr>\n",
       "      <th>4</th>\n",
       "      <td>123</td>\n",
       "    </tr>\n",
       "  </tbody>\n",
       "</table>\n",
       "</div>"
      ],
      "text/plain": [
       "     0\n",
       "0  123\n",
       "1  119\n",
       "2  119\n",
       "3  116\n",
       "4  123"
      ]
     },
     "execution_count": 3,
     "metadata": {},
     "output_type": "execute_result"
    }
   ],
   "source": [
    "oncesi[0:5]"
   ]
  },
  {
   "cell_type": "code",
   "execution_count": 4,
   "id": "fce1b12f-6636-473b-8350-cc822b250077",
   "metadata": {},
   "outputs": [
    {
     "data": {
      "text/html": [
       "<div>\n",
       "<style scoped>\n",
       "    .dataframe tbody tr th:only-of-type {\n",
       "        vertical-align: middle;\n",
       "    }\n",
       "\n",
       "    .dataframe tbody tr th {\n",
       "        vertical-align: top;\n",
       "    }\n",
       "\n",
       "    .dataframe thead th {\n",
       "        text-align: right;\n",
       "    }\n",
       "</style>\n",
       "<table border=\"1\" class=\"dataframe\">\n",
       "  <thead>\n",
       "    <tr style=\"text-align: right;\">\n",
       "      <th></th>\n",
       "      <th>0</th>\n",
       "    </tr>\n",
       "  </thead>\n",
       "  <tbody>\n",
       "    <tr>\n",
       "      <th>0</th>\n",
       "      <td>118</td>\n",
       "    </tr>\n",
       "    <tr>\n",
       "      <th>1</th>\n",
       "      <td>127</td>\n",
       "    </tr>\n",
       "    <tr>\n",
       "      <th>2</th>\n",
       "      <td>122</td>\n",
       "    </tr>\n",
       "    <tr>\n",
       "      <th>3</th>\n",
       "      <td>132</td>\n",
       "    </tr>\n",
       "    <tr>\n",
       "      <th>4</th>\n",
       "      <td>129</td>\n",
       "    </tr>\n",
       "  </tbody>\n",
       "</table>\n",
       "</div>"
      ],
      "text/plain": [
       "     0\n",
       "0  118\n",
       "1  127\n",
       "2  122\n",
       "3  132\n",
       "4  129"
      ]
     },
     "execution_count": 4,
     "metadata": {},
     "output_type": "execute_result"
    }
   ],
   "source": [
    "sonrasi[0:5]"
   ]
  },
  {
   "cell_type": "code",
   "execution_count": 5,
   "id": "cbf87f3d-7458-488d-a708-47b0b1f1b146",
   "metadata": {},
   "outputs": [
    {
     "name": "stdout",
     "output_type": "stream",
     "text": [
      "Ayrık Veri Seti:\n",
      "\n",
      "    oncesi  sonrasi\n",
      "0     123      118\n",
      "1     119      127\n",
      "2     119      122\n",
      "3     116      132\n",
      "4     123      129 \n",
      "\n",
      "\n"
     ]
    }
   ],
   "source": [
    "#Birinci Veri Seti\n",
    "ayrik = pd.concat([oncesi,sonrasi], axis = 1)\n",
    "ayrik.columns = [\"oncesi\",\"sonrasi\"]\n",
    "print(\"Ayrık Veri Seti:\\n\\n\",ayrik.head(), \"\\n\\n\")"
   ]
  },
  {
   "cell_type": "code",
   "execution_count": 6,
   "id": "0f0c04d4-bc70-40e0-8cb9-e3e827a8c116",
   "metadata": {},
   "outputs": [],
   "source": [
    "#İkinci veri seti\n",
    "\n",
    "#Öncesi flag/tag'ını oluşturma.\n",
    "grup_oncesi = np.arange(len(oncesi))\n",
    "grup_oncesi = pd.DataFrame(grup_oncesi)\n",
    "grup_oncesi[:] = \"oncesi\"\n",
    "\n",
    "#flag ve öncesini değerlerini bir araya getirme.\n",
    "A = pd.concat([oncesi, grup_oncesi], axis = 1)\n",
    "\n",
    "#sonrasi flag/tag'ını oluşturma.\n",
    "grup_sonrasi = np.arange(len(sonrasi))\n",
    "grup_sonrasi = pd.DataFrame(grup_sonrasi)\n",
    "grup_sonrasi[:] = \"sonrasi\"\n",
    "\n",
    "#flag ve sonrası değerlerini bir araya getirme.\n",
    "B = pd.concat([sonrasi, grup_sonrasi], axis = 1)"
   ]
  },
  {
   "cell_type": "code",
   "execution_count": 8,
   "id": "b0d4f518-6f82-4e70-95ac-789e287a51d2",
   "metadata": {},
   "outputs": [],
   "source": [
    "#tüm veri setini bir araya getirme.\n",
    "\n",
    "birlikte = pd.concat([A,B])"
   ]
  },
  {
   "cell_type": "code",
   "execution_count": 12,
   "id": "3f9f4c9f-9ea0-4aa5-8747-683a5f5f027f",
   "metadata": {},
   "outputs": [
    {
     "name": "stdout",
     "output_type": "stream",
     "text": [
      "Birlikte Veri Seti:\n",
      "\n",
      "    performans oncesi_sonrasi\n",
      "0         123         oncesi\n",
      "1         119         oncesi\n",
      "2         119         oncesi\n",
      "3         116         oncesi\n",
      "4         123         oncesi \n",
      "\n"
     ]
    }
   ],
   "source": [
    "#isimlendirme\n",
    "birlikte.columns = [\"performans\",\"oncesi_sonrasi\"]\n",
    "print(\"Birlikte Veri Seti:\\n\\n\", birlikte.head(),\"\\n\")"
   ]
  },
  {
   "cell_type": "code",
   "execution_count": 13,
   "id": "6ad8bfc4-38fa-41a3-9b20-bee5aaf81679",
   "metadata": {},
   "outputs": [
    {
     "data": {
      "image/png": "[encoded data removed]",
      "text/plain": [
       "<Figure size 640x480 with 1 Axes>"
      ]
     },
     "metadata": {},
     "output_type": "display_data"
    }
   ],
   "source": [
    "import seaborn as sns\n",
    "sns.boxplot(x = \"oncesi_sonrasi\", y = \"performans\", data = birlikte);"
   ]
  },
  {
   "cell_type": "code",
   "execution_count": 14,
   "id": "035f3575-981f-4d87-8745-d2135c374eef",
   "metadata": {},
   "outputs": [],
   "source": [
    "#shapiro ile varsayım kontrolü\n",
    "from scipy.stats import shapiro"
   ]
  },
  {
   "cell_type": "code",
   "execution_count": 16,
   "id": "faf7edcd-6e55-4c03-af67-4d87f18af366",
   "metadata": {},
   "outputs": [
    {
     "data": {
      "text/plain": [
       "ShapiroResult(statistic=0.9649339318275452, pvalue=0.2594277858734131)"
      ]
     },
     "execution_count": 16,
     "metadata": {},
     "output_type": "execute_result"
    }
   ],
   "source": [
    "shapiro(ayrik.oncesi)"
   ]
  },
  {
   "cell_type": "code",
   "execution_count": 17,
   "id": "a2795e8b-3c86-4a04-adc7-e5bd82503c20",
   "metadata": {},
   "outputs": [
    {
     "data": {
      "text/plain": [
       "ShapiroResult(statistic=0.9762762784957886, pvalue=0.5698369741439819)"
      ]
     },
     "execution_count": 17,
     "metadata": {},
     "output_type": "execute_result"
    }
   ],
   "source": [
    "shapiro(ayrik.sonrasi)"
   ]
  },
  {
   "cell_type": "markdown",
   "id": "9751c1ea-a4f8-409e-9196-daeebfbee910",
   "metadata": {},
   "source": [
    "Shapiro varsayım kontrolünden sonra şu sonuca varabiliriz. Sonrasi pvalue değeri 0.05 değerinden büyük çıkmıştır. Bu yüzden H0 hipotezi reddeilmez ve normal dağılım vardır diyebiliriz."
   ]
  },
  {
   "cell_type": "code",
   "execution_count": 19,
   "id": "ee2adc84-5e35-4820-8b55-e05fab0dff2b",
   "metadata": {},
   "outputs": [
    {
     "data": {
      "text/plain": [
       "LeveneResult(statistic=6.352539802880974, pvalue=0.013818092966097997)"
      ]
     },
     "execution_count": 19,
     "metadata": {},
     "output_type": "execute_result"
    }
   ],
   "source": [
    "#homojen varsayım kontrolü\n",
    "import scipy.stats\n",
    "scipy.stats.levene(ayrik.oncesi, ayrik.sonrasi)"
   ]
  },
  {
   "cell_type": "code",
   "execution_count": 21,
   "id": "efdd1ce0-2031-4b2b-b422-fd3daff8e125",
   "metadata": {},
   "outputs": [
    {
     "data": {
      "text/plain": [
       "Ttest_relResult(statistic=-8.728251637973553, pvalue=1.2980900743470597e-10)"
      ]
     },
     "execution_count": 21,
     "metadata": {},
     "output_type": "execute_result"
    }
   ],
   "source": [
    "#hipotez testi\n",
    "scipy.stats.ttest_rel(ayrik.oncesi, ayrik.sonrasi)"
   ]
  },
  {
   "cell_type": "code",
   "execution_count": 23,
   "id": "48835b59-f883-44fb-a527-fd04054478dc",
   "metadata": {},
   "outputs": [
    {
     "name": "stdout",
     "output_type": "stream",
     "text": [
      "Test istatistiği=-8.7283, p-değeri=0.0000\n"
     ]
    }
   ],
   "source": [
    "#hipotez testlerinin sonuçlarını daha açıklayıcı yazmak istersek.\n",
    "test_istatistigi,pvalue = scipy.stats.ttest_rel(ayrik[\"oncesi\"], ayrik[\"sonrasi\"])\n",
    "print(\"Test istatistiği=%.4f, p-değeri=%.4f\" %(test_istatistigi, pvalue))"
   ]
  },
  {
   "cell_type": "markdown",
   "id": "14d94752-2c55-45fb-b5e6-a68ad7496616",
   "metadata": {},
   "source": [
    "**Yorum:** İş uygulamasında %5 hata ve %95 güvenirlik katsayısı ile eğitimin faydalı olduğunu söyleyebilirim."
   ]
  },
  {
   "cell_type": "code",
   "execution_count": 26,
   "id": "bbf28715-5ba6-4450-918f-ddb27343b8b4",
   "metadata": {},
   "outputs": [
    {
     "data": {
      "text/plain": [
       "WilcoxonResult(statistic=18.0, pvalue=4.796359728711028e-07)"
      ]
     },
     "execution_count": 26,
     "metadata": {},
     "output_type": "execute_result"
    }
   ],
   "source": [
    "#nonparametrik bağımlı iki örneklem T testi:\n",
    "scipy.stats.wilcoxon(ayrik.oncesi, ayrik.sonrasi)"
   ]
  },
  {
   "cell_type": "code",
   "execution_count": 27,
   "id": "900bfb92-3ecd-4ed0-98c6-cbe2da964ac9",
   "metadata": {},
   "outputs": [
    {
     "name": "stdout",
     "output_type": "stream",
     "text": [
      "Test istatistiği=18.0000, p-değeri=0.0000\n"
     ]
    }
   ],
   "source": [
    "#hipotez testlerinin sonuçlarını daha açıklayıcı yazmak istersek.\n",
    "test_istatistigi,pvalue = scipy.stats.wilcoxon(ayrik[\"oncesi\"], ayrik[\"sonrasi\"])\n",
    "print(\"Test istatistiği=%.4f, p-değeri=%.4f\" %(test_istatistigi, pvalue))"
   ]
  },
  {
   "cell_type": "markdown",
   "id": "96969115-5688-4067-9799-656587f408b5",
   "metadata": {},
   "source": [
    "@nursenabozdag"
   ]
  }
 ],
 "metadata": {
  "kernelspec": {
   "display_name": "Python 3 (ipykernel)",
   "language": "python",
   "name": "python3"
  },
  "language_info": {
   "codemirror_mode": {
    "name": "ipython",
    "version": 3
   },
   "file_extension": ".py",
   "mimetype": "text/x-python",
   "name": "python",
   "nbconvert_exporter": "python",
   "pygments_lexer": "ipython3",
   "version": "3.10.4"
  }
 },
 "nbformat": 4,
 "nbformat_minor": 5
}
