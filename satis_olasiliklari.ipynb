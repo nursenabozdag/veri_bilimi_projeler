{
 "cells": [
  {
   "cell_type": "markdown",
   "id": "d058a042-8b8f-4ef4-9d64-c6171a39bc48",
   "metadata": {},
   "source": [
    "### Satış Olasılıklarının Hesaplanması"
   ]
  },
  {
   "cell_type": "markdown",
   "id": "9663e0fb-28d9-4df6-9792-8c2afe4781ac",
   "metadata": {},
   "source": [
    "Elimizde bulunan iş uygulamasında normal dağılım metodunu kullanarak problemi çözmemiz isterniliyor.\n",
    "\n",
    "**Problem:** Bir yatırım veya toplantı öncesinde gelecek ay ile ilgili satışların belirli değerlerde gerçekleşmesi olasılıkları belirlenmek isteniliyor.\n",
    "\n",
    "**Detay:** Dağılımın normal dağıldığını biliyor.\n",
    "\n",
    "-Aylık ortalama satış sayısı 80K, standart sapması 5K,\n",
    "\n",
    "**Soru:** 90K'dan fazla satış yapma olasılığı nedir?\n"
   ]
  },
  {
   "cell_type": "markdown",
   "id": "41951eba-e077-43e4-a943-2f2a5ab1ead3",
   "metadata": {},
   "source": [
    "Uygulamada normal dağılım kullanılacağı için öncelikle normal dağılımın ne olduğunu anlayalım.\n",
    "\n",
    "**Normal Dağılım:** Normal dağıldığı bilinen sürekli rassal değişkenler için olasılık hesaplanması için kullanılır. Sürekli değişkenler için kullanılır. Kullanılacak formüller aşağıdadır.\n",
    "\n",
    "$f(x|\\mu,\\sigma^2) = \\frac{1}{\\sqrt{2*pi*\\sigma^2}} * e^-{\\frac{(x-\\mu)^2}{2*\\sigma^2}}$\n",
    "\n",
    "Bu formüldeki;\n",
    "\n",
    "$\\mu = ortalama$\n",
    "\n",
    "$\\sigma = standart sapma$\n",
    "\n",
    "$\\sigma^2 = varyans$\n",
    "\n",
    "temsil etmektedir."
   ]
  },
  {
   "cell_type": "markdown",
   "id": "5cd5951e-2ea2-4310-8d11-4558b953dde3",
   "metadata": {},
   "source": [
    "Problemi yukarıda ki formül ile çözersek %5 hata ve %95 güvenirlik oranı ile 0.0228 çıkacaktır. Şimdide python ile çözelim.\n",
    "\n",
    "Python da scipy.stats kütüphanesinden norm fonksiyonunu kullanacağız."
   ]
  },
  {
   "cell_type": "code",
   "execution_count": 1,
   "id": "0a4c14dd-af4f-4cf6-a7fd-99a415e5abba",
   "metadata": {},
   "outputs": [],
   "source": [
    "#öncelikle kullanacağımız kütüphaneyi ve fonksiyonu import edelim.\n",
    "from scipy.stats import norm"
   ]
  },
  {
   "cell_type": "code",
   "execution_count": 3,
   "id": "8d40c42e-8433-45db-82b8-2bd94a067c52",
   "metadata": {},
   "outputs": [
    {
     "data": {
      "text/plain": [
       "0.02275013194817921"
      ]
     },
     "execution_count": 3,
     "metadata": {},
     "output_type": "execute_result"
    }
   ],
   "source": [
    "#satışın 90K'dan fazla olma olasılığı?\n",
    "1-norm.cdf(90,80,5)"
   ]
  },
  {
   "cell_type": "code",
   "execution_count": 4,
   "id": "ae73350a-1b01-4bde-b98e-01c69a370a69",
   "metadata": {},
   "outputs": [
    {
     "data": {
      "text/plain": [
       "0.9772498680518208"
      ]
     },
     "execution_count": 4,
     "metadata": {},
     "output_type": "execute_result"
    }
   ],
   "source": [
    "#satışın 70K'dan fazla olma olasılığı?\n",
    "1-norm.cdf(70,80,5)"
   ]
  },
  {
   "cell_type": "code",
   "execution_count": 5,
   "id": "40726f65-05c9-4ed7-9624-db7e7c0361c4",
   "metadata": {},
   "outputs": [
    {
     "data": {
      "text/plain": [
       "0.08075665923377107"
      ]
     },
     "execution_count": 5,
     "metadata": {},
     "output_type": "execute_result"
    }
   ],
   "source": [
    "#satışın 73K'den az olma olasılığı?\n",
    "norm.cdf(73,80,5)"
   ]
  },
  {
   "cell_type": "code",
   "execution_count": 6,
   "id": "a35206f2-9f07-4c8f-82ac-f8e3ea96e5aa",
   "metadata": {},
   "outputs": [
    {
     "data": {
      "text/plain": [
       "0.13590512198327787"
      ]
     },
     "execution_count": 6,
     "metadata": {},
     "output_type": "execute_result"
    }
   ],
   "source": [
    "#satışın 85K ve 90K arasında olma olasılığı?\n",
    "norm.cdf(90,80,5) - norm.cdf(85,80,5)"
   ]
  },
  {
   "cell_type": "markdown",
   "id": "4c8f93b3-3896-4cfe-8b85-73b8b4dc4f6a",
   "metadata": {},
   "source": [
    "Bu uygulamada **Vahit Keskin** hoca'nın notlarından yararlanılmıştır. Python istatistik hesaplamada bu yüzden kullanılır. Tek satır kod ile normal dağılım örneği çözebiliyoruz."
   ]
  }
 ],
 "metadata": {
  "kernelspec": {
   "display_name": "Python 3 (ipykernel)",
   "language": "python",
   "name": "python3"
  },
  "language_info": {
   "codemirror_mode": {
    "name": "ipython",
    "version": 3
   },
   "file_extension": ".py",
   "mimetype": "text/x-python",
   "name": "python",
   "nbconvert_exporter": "python",
   "pygments_lexer": "ipython3",
   "version": "3.10.4"
  }
 },
 "nbformat": 4,
 "nbformat_minor": 5
}
