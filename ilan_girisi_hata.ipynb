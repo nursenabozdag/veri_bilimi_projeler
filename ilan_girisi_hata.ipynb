{
 "cells": [
  {
   "cell_type": "markdown",
   "id": "0d5a423d-d17e-4b15-8719-0b58514cee6b",
   "metadata": {},
   "source": [
    "### İlan Giriş Hatası Uygulaması"
   ]
  },
  {
   "cell_type": "markdown",
   "id": "a3d670fc-f884-4131-8db4-17e8d0bcc5ca",
   "metadata": {},
   "source": [
    "**Öncelikle belirtmek isterim ki bu uygulamada Vahit Keskin Hoca'nın notlarından faydalanarak hazırlanmıştır.** Bu uygulamamızda bir ilan sitesinde belirli bir süre diliminde ki ilanlarda siteye hatalı ilan girişini olasılıklarını hesaplamak istiyoruz. Uygulamamızın detaylarına bakarsak, dağılım türünü biliyoruz (poisson dağılımı), lambda değeri 0,1.\n",
    "\n",
    "**Soru:** Siteye ilan girişinde hiç hata olmaması, 3 hata olması ve 5 hata olması olasılıkları nelerdir?"
   ]
  },
  {
   "cell_type": "markdown",
   "id": "edbca2c6-f473-4be3-91f3-0e8615234347",
   "metadata": {},
   "source": [
    "Uygulmaya geçmeden önce poisson dağılımı hakkında biraz bilgi vermek istiyorum.\n",
    "\n",
    "**Poisson Dağılımı:** Belirli bir zaman aralığında belirli bir alanda **nadiren** rastlanan olayların olasılıklarını hesaplamak için kullanılır. En açıklayıcı olarak bu tanımı kullanabilirz.\n",
    "\n",
    "Nadir olaylara örnek vermek gerekirsek;\n",
    "- 10000 kelimeden oluşan bir kitapta hatalı kelime sayısı,\n",
    "- 4000 öğrencili okulda not girişinde hata yapılması,\n",
    "- Bir iş gününde çağrı merkezine gelen taktir sayısı,\n",
    "- Kredi kartı işlemlerinde sahtekarlık olması,\n",
    "- Rötara düşen uçuş sefer sayısı,\n",
    "- Bir telefona yarım saat içinde gelen çağrı sayısı,\n",
    "- Otobüs durağına yarım saat içinde gelen otobüs sayısı,\n",
    "- Bir klavyede 1 günde bozulan tuş sayısı,\n",
    "- 20 dairelik bir apartmanda bir gecede 5 dairenin soyulması\n",
    "\n",
    "yukarıda olayları örnek verebiliriz.\n",
    "\n",
    "Poisson dağılımını formülize edersek aşağıda verilen formüller kullanılabilir.\n",
    "\n",
    "$f(x,\\lambda) = \\frac{\\lambda^x * e^{-\\lambda}}{x!}$ \n",
    "\n",
    "$ x =0,1,2,3,.....n$\n",
    "\n",
    "$E(X) = \\lambda$\n",
    "\n",
    "$Var(x) = \\lambda$"
   ]
  },
  {
   "cell_type": "markdown",
   "id": "6e0b348d-1a3c-4dc6-b8d4-007056dc3a6b",
   "metadata": {},
   "source": [
    "Uygulamamızı formülleri kullanırsak elde edeceğiğmiz sonuçlar;\n",
    "\n",
    "f(0,0.1) = 0.9048\n",
    "\n",
    "f(3,0.1) = 0.00015\n",
    "\n",
    "f(5,0.1) = 0.0000000754\n",
    "\n",
    "şeklinde olacaktır."
   ]
  },
  {
   "cell_type": "markdown",
   "id": "4711e108-df27-487c-8328-5afe2c8c9537",
   "metadata": {},
   "source": [
    "Şimdi de uygulamamızı python kodu ile yapalım. Python kodunda yazmak için diğer uygulamalarda kullandığımız gibi scipy.stats kütüphanesinden yararlanacağız ve göreceksiniz ki python problemlerimizi ve hayatımızı nasıl kolaylaştırmaktadır."
   ]
  },
  {
   "cell_type": "code",
   "execution_count": 2,
   "id": "12fce0b4-5623-44a4-b9b2-3259a3aa9779",
   "metadata": {},
   "outputs": [],
   "source": [
    "#kütüphanemizi import ediyoruz ve kullanacığımız possion methodunu kütüphanemizden çekiyoruz.\n",
    "from scipy.stats import poisson"
   ]
  },
  {
   "cell_type": "code",
   "execution_count": 3,
   "id": "b168dc83-acaf-4a05-b394-2ffab0751f4d",
   "metadata": {},
   "outputs": [],
   "source": [
    "#lambda değerimizi giriyoruz. Fakat burada python diğer lambda ile karıştırılmaması için _ işareti ile beraber kullanıyoruz.\n",
    "lambda_ = 0.1"
   ]
  },
  {
   "cell_type": "code",
   "execution_count": 5,
   "id": "362438df-ef28-43fd-954f-8949cb4daf24",
   "metadata": {},
   "outputs": [],
   "source": [
    "#poisson işlemlerimizi rv'ye atıyoruz\n",
    "rv = poisson(mu = lambda_)"
   ]
  },
  {
   "cell_type": "code",
   "execution_count": 6,
   "id": "d3952bb9-2db0-4259-ac07-089f32831f1a",
   "metadata": {},
   "outputs": [
    {
     "name": "stdout",
     "output_type": "stream",
     "text": [
      "0.9048374180359595\n"
     ]
    }
   ],
   "source": [
    "#Soruda geçen 0 hata olma olasılığı?\n",
    "print(rv.pmf(k=0))"
   ]
  },
  {
   "cell_type": "code",
   "execution_count": 7,
   "id": "59e93c06-36ce-4bd5-a1fa-81731c50c7e6",
   "metadata": {},
   "outputs": [
    {
     "name": "stdout",
     "output_type": "stream",
     "text": [
      "0.00015080623633932676\n"
     ]
    }
   ],
   "source": [
    "#3 hata olma olasılığı?\n",
    "print(rv.pmf(k=3))"
   ]
  },
  {
   "cell_type": "code",
   "execution_count": 8,
   "id": "1cf120d1-1bd0-4603-830e-3649218e561a",
   "metadata": {},
   "outputs": [
    {
     "name": "stdout",
     "output_type": "stream",
     "text": [
      "2.493489357462418e-17\n"
     ]
    }
   ],
   "source": [
    "#5 hata olma olasılığı?\n",
    "print(rv.pmf(k=10))"
   ]
  },
  {
   "cell_type": "code",
   "execution_count": 10,
   "id": "03b323ce-0611-47d2-913a-8b8164eac76d",
   "metadata": {},
   "outputs": [
    {
     "name": "stdout",
     "output_type": "stream",
     "text": [
      "2.493489357462418e-17\n"
     ]
    }
   ],
   "source": [
    "#10 hata olma olasılığı ?\n",
    "print(rv.pmf(k=10))"
   ]
  },
  {
   "cell_type": "code",
   "execution_count": 11,
   "id": "5140650d-e256-40f9-b59e-44bef34ecef8",
   "metadata": {},
   "outputs": [
    {
     "name": "stdout",
     "output_type": "stream",
     "text": [
      "3.719169185585526e-39\n"
     ]
    }
   ],
   "source": [
    "#20 hata olma olasılığı?\n",
    "print(rv.pmf(k = 20))"
   ]
  },
  {
   "cell_type": "markdown",
   "id": "a32e365f-1c78-4a6a-96ac-7c4bdb5fcfde",
   "metadata": {},
   "source": [
    "Görüldüğü gibi hata oranı yükseldikçe olasılığımız düşmektedir.\n",
    "\n",
    "Bu sefer de şöyle bir şey yaparsak hata girişi aynı fakat lambda değeri değişir ise ne olur?"
   ]
  },
  {
   "cell_type": "code",
   "execution_count": 17,
   "id": "85bb581e-5b7c-4385-97a5-839de07565da",
   "metadata": {},
   "outputs": [
    {
     "name": "stdout",
     "output_type": "stream",
     "text": [
      "0.6065306597126334\n"
     ]
    }
   ],
   "source": [
    "#lambda değeri 0.5, k = 0 için;\n",
    "lambda_=0.5\n",
    "rv = poisson(mu = lambda_)\n",
    "print(rv.pmf(k=0))"
   ]
  },
  {
   "cell_type": "code",
   "execution_count": 18,
   "id": "af160531-a4e5-4252-8f77-65688d53072b",
   "metadata": {},
   "outputs": [
    {
     "name": "stdout",
     "output_type": "stream",
     "text": [
      "0.012636055410679865\n"
     ]
    }
   ],
   "source": [
    "#lambda değeri 0.5, k = 3 için;\n",
    "lambda_=0.5\n",
    "rv = poisson(mu = lambda_)\n",
    "print(rv.pmf(k=3))"
   ]
  },
  {
   "cell_type": "code",
   "execution_count": 19,
   "id": "c30941ff-7593-4c4d-9e00-e6d41f859def",
   "metadata": {},
   "outputs": [
    {
     "name": "stdout",
     "output_type": "stream",
     "text": [
      "0.0001579506926334984\n"
     ]
    }
   ],
   "source": [
    "#lambda değeri 0.5, k = 5 için;\n",
    "lambda_=0.5\n",
    "rv = poisson(mu = lambda_)\n",
    "print(rv.pmf(k=5))"
   ]
  },
  {
   "cell_type": "markdown",
   "id": "10a972cc-e185-4db6-a2e3-a839e0d11813",
   "metadata": {},
   "source": [
    "Yukarıda işlemlerde görüldüğü gibi lambda değeri 0.1-0.5 iken ve k değeri 0 ve 5 iken oluşan olasılık değerleri çok yakındır."
   ]
  },
  {
   "cell_type": "markdown",
   "id": "6c1c1e76-22d1-4529-abce-897500bdf0de",
   "metadata": {},
   "source": [
    "Birkaç not daha düşmek gerekirse;\n",
    "\n",
    "**Poisson dağılımı binom dağılımının özel halidir**.\n",
    "\n",
    "**Poisson dağılımında $\\lambda$ parametresi hem ortalamayı hemde varyansı ifade etmektedir.**"
   ]
  },
  {
   "cell_type": "markdown",
   "id": "0f94192d-1a4d-449f-bc98-3a4cd8d4dad4",
   "metadata": {},
   "source": [
    "@nursenabozdag"
   ]
  }
 ],
 "metadata": {
  "kernelspec": {
   "display_name": "Python 3 (ipykernel)",
   "language": "python",
   "name": "python3"
  },
  "language_info": {
   "codemirror_mode": {
    "name": "ipython",
    "version": 3
   },
   "file_extension": ".py",
   "mimetype": "text/x-python",
   "name": "python",
   "nbconvert_exporter": "python",
   "pygments_lexer": "ipython3",
   "version": "3.10.4"
  }
 },
 "nbformat": 4,
 "nbformat_minor": 5
}
